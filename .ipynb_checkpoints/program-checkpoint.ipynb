{
 "cells": [
  {
   "cell_type": "code",
   "execution_count": 26,
   "metadata": {},
   "outputs": [
    {
     "name": "stdin",
     "output_type": "stream",
     "text": [
      "What is your name?:     David\n",
      "How many times should I print it? Enter an int value:    3\n"
     ]
    },
    {
     "name": "stdout",
     "output_type": "stream",
     "text": [
      "David\n",
      "David\n",
      "David\n",
      "Number of letters in your name:\n",
      "5\n"
     ]
    }
   ],
   "source": [
    "nameStr = input(\"What is your name?:    \")\n",
    "aInt = input(\"How many times should I print it? Enter an int value:   \")\n",
    "\n",
    "def numberOfLetters(string):\n",
    "    letters = len(string)\n",
    "    print(\"Number of letters in your name:\")\n",
    "    print(letters)\n",
    "\n",
    "for i in range(int(aInt)):\n",
    "    print(nameStr)\n",
    "\n",
    "numberOfLetters(nameStr)"
   ]
  },
  {
   "cell_type": "code",
   "execution_count": null,
   "metadata": {},
   "outputs": [],
   "source": []
  }
 ],
 "metadata": {
  "kernelspec": {
   "display_name": "Python 3.7",
   "language": "python",
   "name": "python3"
  },
  "language_info": {
   "codemirror_mode": {
    "name": "ipython",
    "version": 3
   },
   "file_extension": ".py",
   "mimetype": "text/x-python",
   "name": "python",
   "nbconvert_exporter": "python",
   "pygments_lexer": "ipython3",
   "version": "3.7.0"
  }
 },
 "nbformat": 4,
 "nbformat_minor": 2
}
