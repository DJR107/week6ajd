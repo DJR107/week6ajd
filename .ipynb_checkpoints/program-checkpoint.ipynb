{
 "cells": [
  {
   "cell_type": "code",
   "execution_count": 33,
   "metadata": {},
   "outputs": [
    {
     "name": "stdin",
     "output_type": "stream",
     "text": [
      "What is your name? David\n",
      "What is your favorite color? blue\n",
      "How many times should I print it? Enter an int value:    1\n"
     ]
    },
    {
     "name": "stdout",
     "output_type": "stream",
     "text": [
      " \n",
      "David\n",
      "\u001b[1;31;48mDavid\n",
      "\n",
      "Number of letters in your name:\n",
      "5\n"
     ]
    }
   ],
   "source": [
    "nameStr = input(\"What is your name?\")\n",
    "colorStr = input(\"What is your favorite color?\")\n",
    "aInt = input(\"How many times should I print it? Enter an int value:   \")\n",
    "print(\" \")\n",
    "\n",
    "def printName(string):\n",
    "    for i in range(int(aInt)):\n",
    "        print(nameStr)\n",
    "\n",
    "def numberOfLetters(string):\n",
    "    letters = len(string)\n",
    "    print(\"Number of letters in your name:\")\n",
    "    print(letters)\n",
    "    \n",
    "def favoriteColor(name, color):\n",
    "    colorInt = 0\n",
    "    if (color.lower() == \"red\"):\n",
    "        colorInt = 31\n",
    "    if (color.lower() == \"green\"):\n",
    "        colorInt = 32\n",
    "    if (color.lower() == \"yellow\"):\n",
    "        colorInt = 33\n",
    "    if (color.lower() == \"blue\"):\n",
    "        colorInt = 34\n",
    "    if (color.lower() == \"purple\"):\n",
    "        colorInt = 35\n",
    "    colorStr = str(colorInt)\n",
    "    print(\"\\033[1;\"+colorStr+\";48m\"+name+\"\\n\")\n",
    "    \n",
    "printName(nameStr)\n",
    "favoriteColor(nameStr, colorStr)\n",
    "numberOfLetters(nameStr)"
   ]
  },
  {
   "cell_type": "code",
   "execution_count": null,
   "metadata": {},
   "outputs": [],
   "source": []
  }
 ],
 "metadata": {
  "kernelspec": {
   "display_name": "Python 3.7",
   "language": "python",
   "name": "python3"
  },
  "language_info": {
   "codemirror_mode": {
    "name": "ipython",
    "version": 3
   },
   "file_extension": ".py",
   "mimetype": "text/x-python",
   "name": "python",
   "nbconvert_exporter": "python",
   "pygments_lexer": "ipython3",
   "version": "3.7.0"
  }
 },
 "nbformat": 4,
 "nbformat_minor": 2
}
